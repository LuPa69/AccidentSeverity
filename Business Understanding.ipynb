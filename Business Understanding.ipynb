{
    "cells": [
        {
            "cell_type": "markdown",
            "metadata": {
                "collapsed": true
            },
            "source": "# Car Accident Severity Prediction in Seattle"
        },
        {
            "cell_type": "markdown",
            "metadata": {
                "collapsed": true
            },
            "source": "## Ludovico Panu\n### September, 2020\n1.\tIntroduction\n\n1.1.\tBackground\nCar accidents are one of the biggest cause of injuries and deaths all over the world. They also impact economy with increased commuting times, increased delivery times and costs, and pollution, due to the massive number of cars waiting for the road to be cleared, or heavily slowed down.  \n\n1.2.\tProblem\nBuilding a model to predict car accident severity can help commuters, professional drivers or logistic planners to reduce the personal and/or business impact of car accidents.\n\n1.3.\tInterest\nDescribed problem and its analysis will be the most interest of two categories of stakeholders:\n\u25cf\tIndividuals, being them work commuters or professional taxi, truck or bus drivers\n\u25cf\tBusinesses, like logistic companies, public/private passengers bus companies, taxi companies, government agencies (urban/suburban mobility managers)\n\n2.\tData acquisition and cleaning\n\n2.1.\tData sources\nCollision data had been fetched from Seattle Department of Transportation Open Data Program in CSV format. \n\nTotal number of events is around 200k including incomplete rows \n\n2.2.\tData cleaning and Feature selection\n\nTo predict the severity of potential accident, I had to select the relevant Features within the Data Set. In fact, the severity of the accident could depend on several parameters such as the time of day, the weather, the location of the second car, the type of the car, the number of persons inside the car, and so on. How to select the most important factors that affect the accident severity? How to use them to build a model that can predict from specific conditions (features), the probability of occurrence and the severity of an accident?\n\n\nTo reach the desired objective of this project, I had first to pinpoint the attributes that can affect the most and are therefore highly correlated with the labeled target (ie. SEVERITYCODEin the data). The chosen parameters are the following:\n\nDDRTYPE: Collision address type  \nPERSONCOUNT: The total number of people involved in the collision  \nVEHCOUNT: The number of vehicles involved in the collision  \nINCDATE: The date of the incident  \nINCDTTM: The date and time of the incident  \nJUNCTIONTYPE: Category of junction at which collision took place  \nINATTENTIONIND: Whether or not collision was due to inattention  \nWEATHER: The weather condition  \nROADCOND: The condition of the road  \nLIGHTCOND: The light condition  \nSPEEDING: Whether or not speeding was a factor in the collision. (Y/N)  \n"
        },
        {
            "cell_type": "code",
            "execution_count": null,
            "metadata": {},
            "outputs": [],
            "source": ""
        }
    ],
    "metadata": {
        "kernelspec": {
            "display_name": "Python 3.6",
            "language": "python",
            "name": "python3"
        },
        "language_info": {
            "codemirror_mode": {
                "name": "ipython",
                "version": 3
            },
            "file_extension": ".py",
            "mimetype": "text/x-python",
            "name": "python",
            "nbconvert_exporter": "python",
            "pygments_lexer": "ipython3",
            "version": "3.6.9"
        }
    },
    "nbformat": 4,
    "nbformat_minor": 1
}